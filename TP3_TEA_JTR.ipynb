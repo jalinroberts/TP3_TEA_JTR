{
 "cells": [
  {
   "cell_type": "markdown",
   "id": "c5443e5f",
   "metadata": {},
   "source": [
    "## Predicting Forest Fires with Regression ##\n",
    "### Tess and Jalin ###"
   ]
  },
  {
   "cell_type": "markdown",
   "id": "a2002d2c",
   "metadata": {},
   "source": [
    "## 1. Import the necessary libraries for EDA and Regression."
   ]
  },
  {
   "cell_type": "code",
   "execution_count": 3,
   "id": "53d7a1ca",
   "metadata": {},
   "outputs": [],
   "source": [
    "import numpy as np\n",
    "import matplotlib.pyplot as plt\n",
    "import pandas as pd\n",
    "import seaborn as sns"
   ]
  },
  {
   "cell_type": "markdown",
   "id": "07aebab8",
   "metadata": {},
   "source": [
    "## 2. Import the Dataset."
   ]
  },
  {
   "cell_type": "code",
   "execution_count": 19,
   "id": "a1cf9ae8",
   "metadata": {},
   "outputs": [
    {
     "data": {
      "text/html": [
       "<div>\n",
       "<style scoped>\n",
       "    .dataframe tbody tr th:only-of-type {\n",
       "        vertical-align: middle;\n",
       "    }\n",
       "\n",
       "    .dataframe tbody tr th {\n",
       "        vertical-align: top;\n",
       "    }\n",
       "\n",
       "    .dataframe thead th {\n",
       "        text-align: right;\n",
       "    }\n",
       "</style>\n",
       "<table border=\"1\" class=\"dataframe\">\n",
       "  <thead>\n",
       "    <tr style=\"text-align: right;\">\n",
       "      <th></th>\n",
       "      <th>X</th>\n",
       "      <th>Y</th>\n",
       "      <th>month</th>\n",
       "      <th>day</th>\n",
       "      <th>FFMC</th>\n",
       "      <th>DMC</th>\n",
       "      <th>DC</th>\n",
       "      <th>ISI</th>\n",
       "      <th>temp</th>\n",
       "      <th>RH</th>\n",
       "      <th>wind</th>\n",
       "      <th>rain</th>\n",
       "      <th>area</th>\n",
       "    </tr>\n",
       "  </thead>\n",
       "  <tbody>\n",
       "    <tr>\n",
       "      <th>0</th>\n",
       "      <td>7</td>\n",
       "      <td>5</td>\n",
       "      <td>mar</td>\n",
       "      <td>fri</td>\n",
       "      <td>86.2</td>\n",
       "      <td>26.2</td>\n",
       "      <td>94.3</td>\n",
       "      <td>5.1</td>\n",
       "      <td>8.2</td>\n",
       "      <td>51</td>\n",
       "      <td>6.7</td>\n",
       "      <td>0.0</td>\n",
       "      <td>0.0</td>\n",
       "    </tr>\n",
       "    <tr>\n",
       "      <th>1</th>\n",
       "      <td>7</td>\n",
       "      <td>4</td>\n",
       "      <td>oct</td>\n",
       "      <td>tue</td>\n",
       "      <td>90.6</td>\n",
       "      <td>35.4</td>\n",
       "      <td>669.1</td>\n",
       "      <td>6.7</td>\n",
       "      <td>18.0</td>\n",
       "      <td>33</td>\n",
       "      <td>0.9</td>\n",
       "      <td>0.0</td>\n",
       "      <td>0.0</td>\n",
       "    </tr>\n",
       "    <tr>\n",
       "      <th>2</th>\n",
       "      <td>7</td>\n",
       "      <td>4</td>\n",
       "      <td>oct</td>\n",
       "      <td>sat</td>\n",
       "      <td>90.6</td>\n",
       "      <td>43.7</td>\n",
       "      <td>686.9</td>\n",
       "      <td>6.7</td>\n",
       "      <td>14.6</td>\n",
       "      <td>33</td>\n",
       "      <td>1.3</td>\n",
       "      <td>0.0</td>\n",
       "      <td>0.0</td>\n",
       "    </tr>\n",
       "    <tr>\n",
       "      <th>3</th>\n",
       "      <td>8</td>\n",
       "      <td>6</td>\n",
       "      <td>mar</td>\n",
       "      <td>fri</td>\n",
       "      <td>91.7</td>\n",
       "      <td>33.3</td>\n",
       "      <td>77.5</td>\n",
       "      <td>9.0</td>\n",
       "      <td>8.3</td>\n",
       "      <td>97</td>\n",
       "      <td>4.0</td>\n",
       "      <td>0.2</td>\n",
       "      <td>0.0</td>\n",
       "    </tr>\n",
       "    <tr>\n",
       "      <th>4</th>\n",
       "      <td>8</td>\n",
       "      <td>6</td>\n",
       "      <td>mar</td>\n",
       "      <td>sun</td>\n",
       "      <td>89.3</td>\n",
       "      <td>51.3</td>\n",
       "      <td>102.2</td>\n",
       "      <td>9.6</td>\n",
       "      <td>11.4</td>\n",
       "      <td>99</td>\n",
       "      <td>1.8</td>\n",
       "      <td>0.0</td>\n",
       "      <td>0.0</td>\n",
       "    </tr>\n",
       "  </tbody>\n",
       "</table>\n",
       "</div>"
      ],
      "text/plain": [
       "   X  Y month  day  FFMC   DMC     DC  ISI  temp  RH  wind  rain  area\n",
       "0  7  5   mar  fri  86.2  26.2   94.3  5.1   8.2  51   6.7   0.0   0.0\n",
       "1  7  4   oct  tue  90.6  35.4  669.1  6.7  18.0  33   0.9   0.0   0.0\n",
       "2  7  4   oct  sat  90.6  43.7  686.9  6.7  14.6  33   1.3   0.0   0.0\n",
       "3  8  6   mar  fri  91.7  33.3   77.5  9.0   8.3  97   4.0   0.2   0.0\n",
       "4  8  6   mar  sun  89.3  51.3  102.2  9.6  11.4  99   1.8   0.0   0.0"
      ]
     },
     "execution_count": 19,
     "metadata": {},
     "output_type": "execute_result"
    }
   ],
   "source": [
    "dataset=pd.read_csv('forestfires.csv')\n",
    "dataset.head()"
   ]
  },
  {
   "cell_type": "markdown",
   "id": "e75ccd73",
   "metadata": {},
   "source": [
    "## 3. Check for Missing Values."
   ]
  },
  {
   "cell_type": "code",
   "execution_count": 20,
   "id": "d22f7e5f",
   "metadata": {},
   "outputs": [
    {
     "data": {
      "text/plain": [
       "X        0\n",
       "Y        0\n",
       "month    0\n",
       "day      0\n",
       "FFMC     0\n",
       "DMC      0\n",
       "DC       0\n",
       "ISI      0\n",
       "temp     0\n",
       "RH       0\n",
       "wind     0\n",
       "rain     0\n",
       "area     0\n",
       "dtype: int64"
      ]
     },
     "execution_count": 20,
     "metadata": {},
     "output_type": "execute_result"
    }
   ],
   "source": [
    "dataset.isnull().sum()"
   ]
  },
  {
   "cell_type": "markdown",
   "id": "35073d1b",
   "metadata": {},
   "source": [
    "## 4. Split the dataset into Independent and Dependent variables."
   ]
  },
  {
   "cell_type": "code",
   "execution_count": 21,
   "id": "d0c722f6",
   "metadata": {},
   "outputs": [
    {
     "data": {
      "text/plain": [
       "Index(['X', 'Y', 'month', 'day', 'FFMC', 'DMC', 'DC', 'ISI', 'temp', 'RH',\n",
       "       'wind', 'rain', 'area'],\n",
       "      dtype='object')"
      ]
     },
     "execution_count": 21,
     "metadata": {},
     "output_type": "execute_result"
    }
   ],
   "source": [
    "dataset.columns"
   ]
  },
  {
   "cell_type": "code",
   "execution_count": 25,
   "id": "c14f94d1",
   "metadata": {},
   "outputs": [],
   "source": [
    "X=dataset.drop('area',axis=1)\n",
    "y=dataset[['area']]"
   ]
  },
  {
   "cell_type": "markdown",
   "id": "c4c92655",
   "metadata": {},
   "source": [
    "## 5. Handling categorical variables."
   ]
  },
  {
   "cell_type": "code",
   "execution_count": 27,
   "id": "6f826cb7",
   "metadata": {},
   "outputs": [
    {
     "data": {
      "text/html": [
       "<div>\n",
       "<style scoped>\n",
       "    .dataframe tbody tr th:only-of-type {\n",
       "        vertical-align: middle;\n",
       "    }\n",
       "\n",
       "    .dataframe tbody tr th {\n",
       "        vertical-align: top;\n",
       "    }\n",
       "\n",
       "    .dataframe thead th {\n",
       "        text-align: right;\n",
       "    }\n",
       "</style>\n",
       "<table border=\"1\" class=\"dataframe\">\n",
       "  <thead>\n",
       "    <tr style=\"text-align: right;\">\n",
       "      <th></th>\n",
       "      <th>X</th>\n",
       "      <th>Y</th>\n",
       "      <th>FFMC</th>\n",
       "      <th>DMC</th>\n",
       "      <th>DC</th>\n",
       "      <th>ISI</th>\n",
       "      <th>temp</th>\n",
       "      <th>RH</th>\n",
       "      <th>wind</th>\n",
       "      <th>rain</th>\n",
       "      <th>...</th>\n",
       "      <th>month_may</th>\n",
       "      <th>month_nov</th>\n",
       "      <th>month_oct</th>\n",
       "      <th>month_sep</th>\n",
       "      <th>day_mon</th>\n",
       "      <th>day_sat</th>\n",
       "      <th>day_sun</th>\n",
       "      <th>day_thu</th>\n",
       "      <th>day_tue</th>\n",
       "      <th>day_wed</th>\n",
       "    </tr>\n",
       "  </thead>\n",
       "  <tbody>\n",
       "    <tr>\n",
       "      <th>0</th>\n",
       "      <td>7</td>\n",
       "      <td>5</td>\n",
       "      <td>86.2</td>\n",
       "      <td>26.2</td>\n",
       "      <td>94.3</td>\n",
       "      <td>5.1</td>\n",
       "      <td>8.2</td>\n",
       "      <td>51</td>\n",
       "      <td>6.7</td>\n",
       "      <td>0.0</td>\n",
       "      <td>...</td>\n",
       "      <td>0</td>\n",
       "      <td>0</td>\n",
       "      <td>0</td>\n",
       "      <td>0</td>\n",
       "      <td>0</td>\n",
       "      <td>0</td>\n",
       "      <td>0</td>\n",
       "      <td>0</td>\n",
       "      <td>0</td>\n",
       "      <td>0</td>\n",
       "    </tr>\n",
       "    <tr>\n",
       "      <th>1</th>\n",
       "      <td>7</td>\n",
       "      <td>4</td>\n",
       "      <td>90.6</td>\n",
       "      <td>35.4</td>\n",
       "      <td>669.1</td>\n",
       "      <td>6.7</td>\n",
       "      <td>18.0</td>\n",
       "      <td>33</td>\n",
       "      <td>0.9</td>\n",
       "      <td>0.0</td>\n",
       "      <td>...</td>\n",
       "      <td>0</td>\n",
       "      <td>0</td>\n",
       "      <td>1</td>\n",
       "      <td>0</td>\n",
       "      <td>0</td>\n",
       "      <td>0</td>\n",
       "      <td>0</td>\n",
       "      <td>0</td>\n",
       "      <td>1</td>\n",
       "      <td>0</td>\n",
       "    </tr>\n",
       "    <tr>\n",
       "      <th>2</th>\n",
       "      <td>7</td>\n",
       "      <td>4</td>\n",
       "      <td>90.6</td>\n",
       "      <td>43.7</td>\n",
       "      <td>686.9</td>\n",
       "      <td>6.7</td>\n",
       "      <td>14.6</td>\n",
       "      <td>33</td>\n",
       "      <td>1.3</td>\n",
       "      <td>0.0</td>\n",
       "      <td>...</td>\n",
       "      <td>0</td>\n",
       "      <td>0</td>\n",
       "      <td>1</td>\n",
       "      <td>0</td>\n",
       "      <td>0</td>\n",
       "      <td>1</td>\n",
       "      <td>0</td>\n",
       "      <td>0</td>\n",
       "      <td>0</td>\n",
       "      <td>0</td>\n",
       "    </tr>\n",
       "    <tr>\n",
       "      <th>3</th>\n",
       "      <td>8</td>\n",
       "      <td>6</td>\n",
       "      <td>91.7</td>\n",
       "      <td>33.3</td>\n",
       "      <td>77.5</td>\n",
       "      <td>9.0</td>\n",
       "      <td>8.3</td>\n",
       "      <td>97</td>\n",
       "      <td>4.0</td>\n",
       "      <td>0.2</td>\n",
       "      <td>...</td>\n",
       "      <td>0</td>\n",
       "      <td>0</td>\n",
       "      <td>0</td>\n",
       "      <td>0</td>\n",
       "      <td>0</td>\n",
       "      <td>0</td>\n",
       "      <td>0</td>\n",
       "      <td>0</td>\n",
       "      <td>0</td>\n",
       "      <td>0</td>\n",
       "    </tr>\n",
       "    <tr>\n",
       "      <th>4</th>\n",
       "      <td>8</td>\n",
       "      <td>6</td>\n",
       "      <td>89.3</td>\n",
       "      <td>51.3</td>\n",
       "      <td>102.2</td>\n",
       "      <td>9.6</td>\n",
       "      <td>11.4</td>\n",
       "      <td>99</td>\n",
       "      <td>1.8</td>\n",
       "      <td>0.0</td>\n",
       "      <td>...</td>\n",
       "      <td>0</td>\n",
       "      <td>0</td>\n",
       "      <td>0</td>\n",
       "      <td>0</td>\n",
       "      <td>0</td>\n",
       "      <td>0</td>\n",
       "      <td>1</td>\n",
       "      <td>0</td>\n",
       "      <td>0</td>\n",
       "      <td>0</td>\n",
       "    </tr>\n",
       "  </tbody>\n",
       "</table>\n",
       "<p>5 rows × 27 columns</p>\n",
       "</div>"
      ],
      "text/plain": [
       "   X  Y  FFMC   DMC     DC  ISI  temp  RH  wind  rain  ...  month_may  \\\n",
       "0  7  5  86.2  26.2   94.3  5.1   8.2  51   6.7   0.0  ...          0   \n",
       "1  7  4  90.6  35.4  669.1  6.7  18.0  33   0.9   0.0  ...          0   \n",
       "2  7  4  90.6  43.7  686.9  6.7  14.6  33   1.3   0.0  ...          0   \n",
       "3  8  6  91.7  33.3   77.5  9.0   8.3  97   4.0   0.2  ...          0   \n",
       "4  8  6  89.3  51.3  102.2  9.6  11.4  99   1.8   0.0  ...          0   \n",
       "\n",
       "   month_nov  month_oct  month_sep  day_mon  day_sat  day_sun  day_thu  \\\n",
       "0          0          0          0        0        0        0        0   \n",
       "1          0          1          0        0        0        0        0   \n",
       "2          0          1          0        0        1        0        0   \n",
       "3          0          0          0        0        0        0        0   \n",
       "4          0          0          0        0        0        1        0   \n",
       "\n",
       "   day_tue  day_wed  \n",
       "0        0        0  \n",
       "1        1        0  \n",
       "2        0        0  \n",
       "3        0        0  \n",
       "4        0        0  \n",
       "\n",
       "[5 rows x 27 columns]"
      ]
     },
     "execution_count": 27,
     "metadata": {},
     "output_type": "execute_result"
    }
   ],
   "source": [
    "X=pd.get_dummies(dataset[['X', 'Y', 'month', 'day', 'FFMC', 'DMC', 'DC', 'ISI', 'temp', 'RH',\n",
    "       'wind', 'rain']],drop_first=True)\n",
    "X.head()"
   ]
  },
  {
   "cell_type": "markdown",
   "id": "bdc477c9",
   "metadata": {},
   "source": [
    "## 6. Splitting the dataset into the Training set, Test set and validation set."
   ]
  },
  {
   "cell_type": "code",
   "execution_count": 32,
   "id": "4d805364",
   "metadata": {},
   "outputs": [],
   "source": [
    "from sklearn.model_selection import train_test_split\n",
    "X_train,X_rest,y_train,y_rest=train_test_split(X,y,\n",
    "                                              test_size=.2,\n",
    "                                              random_state=45)\n",
    "X_test,X_val,y_test,y_val=train_test_split(X_rest,y_rest,\n",
    "                                          test_size=.5,\n",
    "                                          random_state=45)"
   ]
  },
  {
   "cell_type": "markdown",
   "id": "9c4e0d0c",
   "metadata": {},
   "source": [
    "## 7. Training the Multiple Linear Regression model on the Training set"
   ]
  },
  {
   "cell_type": "code",
   "execution_count": null,
   "id": "ed3c529e",
   "metadata": {},
   "outputs": [],
   "source": [
    "from sklearn.linear_model import LinearRegression\n",
    "regressor=LinearRegression()\n",
    "regressor.fit(X_train.values,y_train)"
   ]
  },
  {
   "cell_type": "markdown",
   "id": "9f33fdfc",
   "metadata": {},
   "source": [
    "## 8. Intercept and Coefficient"
   ]
  },
  {
   "cell_type": "code",
   "execution_count": 38,
   "id": "5f667322",
   "metadata": {},
   "outputs": [
    {
     "name": "stdout",
     "output_type": "stream",
     "text": [
      "Intercept: [-22.36049418]\n",
      "Coefficients:  [[  2.50361999   1.01670929  -0.15942752   0.24030324  -0.1284822\n",
      "   -0.65486319   1.4754396   -0.13010435   3.01150248  -2.86345623\n",
      "   41.93859594  44.6972293    8.81609287  13.53538741  24.29784607\n",
      "    1.19173865  -8.21311775 -17.09353071   0.52447676  70.00634724\n",
      "   69.30323691   5.27281176  23.90182478   5.2294092   11.98105028\n",
      "    3.2184349    6.23103906]]\n"
     ]
    }
   ],
   "source": [
    "print('Intercept:',regressor.intercept_)\n",
    "print('Coefficients: ',regressor.coef_)"
   ]
  },
  {
   "cell_type": "code",
   "execution_count": 39,
   "id": "b5db7760",
   "metadata": {},
   "outputs": [
    {
     "data": {
      "text/plain": [
       "Index(['X', 'Y', 'FFMC', 'DMC', 'DC', 'ISI', 'temp', 'RH', 'wind', 'rain',\n",
       "       'month_aug', 'month_dec', 'month_feb', 'month_jan', 'month_jul',\n",
       "       'month_jun', 'month_mar', 'month_may', 'month_nov', 'month_oct',\n",
       "       'month_sep', 'day_mon', 'day_sat', 'day_sun', 'day_thu', 'day_tue',\n",
       "       'day_wed'],\n",
       "      dtype='object')"
      ]
     },
     "execution_count": 39,
     "metadata": {},
     "output_type": "execute_result"
    }
   ],
   "source": [
    "X_train.columns"
   ]
  },
  {
   "cell_type": "markdown",
   "id": "c9c1dbae",
   "metadata": {},
   "source": [
    "## 9. Validation Set"
   ]
  },
  {
   "cell_type": "code",
   "execution_count": 40,
   "id": "05c3decb",
   "metadata": {},
   "outputs": [],
   "source": [
    "y_predval=regressor.predict(X_val.values)"
   ]
  },
  {
   "cell_type": "code",
   "execution_count": 41,
   "id": "d87de871",
   "metadata": {},
   "outputs": [],
   "source": [
    "y_validate=y_val.to_numpy()"
   ]
  },
  {
   "cell_type": "code",
   "execution_count": 46,
   "id": "98c6af5b",
   "metadata": {},
   "outputs": [
    {
     "data": {
      "text/plain": [
       "array([[ 18.,   0.],\n",
       "       [ 47.,   0.],\n",
       "       [ 48.,   0.],\n",
       "       [-11.,   2.],\n",
       "       [  7.,   6.],\n",
       "       [  6.,   2.],\n",
       "       [ 47.,  86.],\n",
       "       [ 28.,  11.],\n",
       "       [-12.,   0.],\n",
       "       [  3.,   0.],\n",
       "       [-20.,   0.],\n",
       "       [-14.,  38.],\n",
       "       [ 18.,  14.],\n",
       "       [  5.,   0.],\n",
       "       [ -1.,   0.],\n",
       "       [  3.,  32.],\n",
       "       [ -1.,   0.],\n",
       "       [-11.,   0.],\n",
       "       [ 16.,   0.],\n",
       "       [ 35.,   3.],\n",
       "       [  9.,   5.],\n",
       "       [ 32.,   0.],\n",
       "       [ -4.,   0.],\n",
       "       [ 65.,   4.],\n",
       "       [ 19.,  29.],\n",
       "       [ 37.,   6.],\n",
       "       [ 21.,   5.],\n",
       "       [ 28.,   0.],\n",
       "       [ 10.,   0.],\n",
       "       [ 24.,   3.],\n",
       "       [ 31.,  15.],\n",
       "       [ 16.,  56.],\n",
       "       [-13.,   1.],\n",
       "       [ 13.,  26.],\n",
       "       [-17.,   0.],\n",
       "       [  7.,   7.],\n",
       "       [ 22.,   2.],\n",
       "       [ 29.,   0.],\n",
       "       [ 12.,   0.],\n",
       "       [ -6.,   0.],\n",
       "       [  1.,   1.],\n",
       "       [ 13.,   0.],\n",
       "       [ -7.,  10.],\n",
       "       [ -2.,   4.],\n",
       "       [ 28.,  39.],\n",
       "       [ 14.,   0.],\n",
       "       [  9.,  36.],\n",
       "       [  2.,   1.],\n",
       "       [ 31.,   0.],\n",
       "       [-15.,   0.],\n",
       "       [  9.,   3.],\n",
       "       [ 17.,  10.]])"
      ]
     },
     "execution_count": 46,
     "metadata": {},
     "output_type": "execute_result"
    }
   ],
   "source": [
    "np.hstack((y_predval,y_validate)).round()"
   ]
  },
  {
   "cell_type": "markdown",
   "id": "60fb65bb",
   "metadata": {},
   "source": [
    "## 10. Predicting the Test Set Results."
   ]
  },
  {
   "cell_type": "code",
   "execution_count": 47,
   "id": "7d1e56be",
   "metadata": {},
   "outputs": [],
   "source": [
    "y_pred=regressor.predict(X_test.values)"
   ]
  },
  {
   "cell_type": "markdown",
   "id": "e00e5d7d",
   "metadata": {},
   "source": [
    "## 11. RMSE and R-Squared"
   ]
  },
  {
   "cell_type": "code",
   "execution_count": 51,
   "id": "c51915dd",
   "metadata": {},
   "outputs": [
    {
     "name": "stdout",
     "output_type": "stream",
     "text": [
      "R-squared: -0.22\n",
      "MSE: 1226.85\n",
      "RMSE: 35.03\n"
     ]
    }
   ],
   "source": [
    "from sklearn.metrics import mean_squared_error, r2_score\n",
    "import math\n",
    "print(f\"R-squared: {r2_score(y_test,y_pred):.2f}\")\n",
    "print(f\"MSE: {mean_squared_error(y_test,y_pred):.2f}\")\n",
    "print(f\"RMSE: {math.sqrt(mean_squared_error(y_test,y_pred)):.2f}\")"
   ]
  }
 ],
 "metadata": {
  "kernelspec": {
   "display_name": "Python 3 (ipykernel)",
   "language": "python",
   "name": "python3"
  },
  "language_info": {
   "codemirror_mode": {
    "name": "ipython",
    "version": 3
   },
   "file_extension": ".py",
   "mimetype": "text/x-python",
   "name": "python",
   "nbconvert_exporter": "python",
   "pygments_lexer": "ipython3",
   "version": "3.9.13"
  }
 },
 "nbformat": 4,
 "nbformat_minor": 5
}
